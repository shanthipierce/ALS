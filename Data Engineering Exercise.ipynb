{
 "cells": [
  {
   "cell_type": "code",
   "execution_count": null,
   "id": "916e031e",
   "metadata": {},
   "outputs": [],
   "source": [
    "# DATA ENGINEER EXERCISE 1\n",
    "\n",
    "# Import pandas\n",
    "import pandas as pd\n",
    "\n",
    "# Load Data\n",
    "df_info = pd.read_csv(\"https://als-hiring.s3.amazonaws.com/fake_data/2020-07-01_17%3A11%3A00/cons.csv\")\n",
    "df_email = pd.read_csv(\"https://als-hiring.s3.amazonaws.com/fake_data/2020-07-01_17%3A11%3A00/cons_email.csv\")\n",
    "df_status = pd.read_csv(\"https://als-hiring.s3.amazonaws.com/fake_data/2020-07-01_17%3A11%3A00/cons_email_chapter_subscription.csv\")\n"
   ]
  },
  {
   "cell_type": "code",
   "execution_count": null,
   "id": "a48cea10",
   "metadata": {},
   "outputs": [],
   "source": [
    "# Verify data loaded\n",
    "df_info.head()"
   ]
  },
  {
   "cell_type": "code",
   "execution_count": null,
   "id": "af72d0fd",
   "metadata": {},
   "outputs": [],
   "source": [
    "df_email.head()"
   ]
  },
  {
   "cell_type": "code",
   "execution_count": null,
   "id": "b219821f",
   "metadata": {},
   "outputs": [],
   "source": [
    "df_status.head()"
   ]
  },
  {
   "cell_type": "code",
   "execution_count": null,
   "id": "89b4acd3",
   "metadata": {},
   "outputs": [],
   "source": [
    "# Explore data\n",
    "df_info.info()"
   ]
  },
  {
   "cell_type": "code",
   "execution_count": null,
   "id": "97ab76b2",
   "metadata": {},
   "outputs": [],
   "source": [
    "df_email.info()"
   ]
  },
  {
   "cell_type": "code",
   "execution_count": null,
   "id": "63616f18",
   "metadata": {},
   "outputs": [],
   "source": [
    "df_status.info()"
   ]
  },
  {
   "cell_type": "code",
   "execution_count": null,
   "id": "4441e61a",
   "metadata": {},
   "outputs": [],
   "source": [
    "# Modify df_info (only need certain columns)\n",
    "df_info2 = df_info[[\"cons_id\",\"source\",\"create_dt\",\"modified_dt\"]]\n",
    "df_info2.info()"
   ]
  },
  {
   "cell_type": "code",
   "execution_count": null,
   "id": "0d0137ae",
   "metadata": {},
   "outputs": [],
   "source": [
    "# Modify df_email (only need primary email and certain columns)\n",
    "df_email2 = df_email[df_email[\"is_primary\"]==1]\n",
    "df_email2 = df_email2[[\"cons_email_id\",\"cons_id\",\"email\"]]\n",
    "df_email2.info()"
   ]
  },
  {
   "cell_type": "code",
   "execution_count": null,
   "id": "03aaabc8",
   "metadata": {},
   "outputs": [],
   "source": [
    "# Modify df_status (only need chapter=1 and certain columns)\n",
    "df_status2 = df_status[df_status[\"chapter_id\"]==1]\n",
    "df_status2 = df_status2[[\"cons_email_id\",\"isunsub\"]]\n",
    "df_status2.info()"
   ]
  },
  {
   "cell_type": "code",
   "execution_count": null,
   "id": "c4abf984",
   "metadata": {},
   "outputs": [],
   "source": [
    "# For all primary emails, merge code, created_dt, and updated_dt from df_info)\n",
    "df_infoemail = pd.merge(df_email2,df_info2, on='cons_id', how='left')\n",
    "df_infoemail.info()"
   ]
  },
  {
   "cell_type": "code",
   "execution_count": null,
   "id": "22b7b5e3",
   "metadata": {},
   "outputs": [],
   "source": [
    "# For all primary emails, merge isunsub from df_status)\n",
    "df_infoemailstatus = pd.merge(df_infoemail,df_status2,on='cons_email_id',how='left')\n",
    "df_infoemailstatus.info()"
   ]
  },
  {
   "cell_type": "code",
   "execution_count": null,
   "id": "0356f329",
   "metadata": {},
   "outputs": [],
   "source": [
    "# If email unavailable, assume not unsubscribed\n",
    "df_infoemailstatus[\"isunsub\"]=df_infoemailstatus[\"isunsub\"].fillna(0)\n",
    "df_infoemailstatus[\"isunsub\"].value_counts()"
   ]
  },
  {
   "cell_type": "code",
   "execution_count": null,
   "id": "0cf83bcc",
   "metadata": {},
   "outputs": [],
   "source": [
    "# Select only needed columns and rename\n",
    "df_infoemailstatus=df_infoemailstatus.rename(columns={\"source\": \"code\", \"isunsub\": \"is_unsub\", \"create_dt\":\"created_dt\", \"modified_dt\":\"updated_dt\"})\n",
    "df_infoemailstatus=df_infoemailstatus.drop(columns=['cons_email_id', 'cons_id'])\n",
    "df_infoemailstatus.info()"
   ]
  },
  {
   "cell_type": "code",
   "execution_count": null,
   "id": "90bb2746",
   "metadata": {},
   "outputs": [],
   "source": [
    "# Change datetypes\n",
    "df_infoemailstatus['created_dt']= pd.to_datetime(df_infoemailstatus['created_dt'])"
   ]
  },
  {
   "cell_type": "code",
   "execution_count": null,
   "id": "2a7355f6",
   "metadata": {},
   "outputs": [],
   "source": [
    "df_infoemailstatus['updated_dt']= pd.to_datetime(df_infoemailstatus['updated_dt'])"
   ]
  },
  {
   "cell_type": "code",
   "execution_count": null,
   "id": "f5a0d5b2",
   "metadata": {},
   "outputs": [],
   "source": [
    "df_infoemailstatus = df_infoemailstatus.astype({\"is_unsub\":bool})"
   ]
  },
  {
   "cell_type": "code",
   "execution_count": null,
   "id": "7ea41d76",
   "metadata": {},
   "outputs": [],
   "source": [
    "df_infoemailstatus.info()"
   ]
  },
  {
   "cell_type": "code",
   "execution_count": null,
   "id": "6dd5be15",
   "metadata": {},
   "outputs": [],
   "source": [
    "df_infoemailstatus.head()"
   ]
  },
  {
   "cell_type": "code",
   "execution_count": null,
   "id": "2a23fa1d",
   "metadata": {},
   "outputs": [],
   "source": [
    "# Write to csv\n",
    "df_infoemailstatus.to_csv ('people.csv', index = False, header=True)"
   ]
  },
  {
   "cell_type": "code",
   "execution_count": null,
   "id": "5540a1a8",
   "metadata": {},
   "outputs": [],
   "source": [
    "# DATA ENGINEER EXERCISE 2\n",
    "\n",
    "# Import pandas\n",
    "import pandas\n",
    "\n",
    "# Load data file\n",
    "df = pd.read_csv('people.csv')\n",
    "df.info()"
   ]
  },
  {
   "cell_type": "code",
   "execution_count": null,
   "id": "bef50884",
   "metadata": {},
   "outputs": [],
   "source": [
    "# change created_dt datetype to datetime\n",
    "df['created_dt']= pd.to_datetime(df_infoemailstatus['created_dt'])\n"
   ]
  },
  {
   "cell_type": "code",
   "execution_count": null,
   "id": "183f7fe7",
   "metadata": {},
   "outputs": [],
   "source": [
    "# Group by created_date, count distinct emails\n",
    "df2 = df.groupby(df['created_dt'].dt.date)['email'].nunique()"
   ]
  },
  {
   "cell_type": "code",
   "execution_count": null,
   "id": "509c98b3",
   "metadata": {},
   "outputs": [],
   "source": [
    "# Convert to dataframe\n",
    "df2=pd.DataFrame(df2)"
   ]
  },
  {
   "cell_type": "code",
   "execution_count": null,
   "id": "3fa4ee27",
   "metadata": {},
   "outputs": [],
   "source": [
    "df2=df2.reset_index()"
   ]
  },
  {
   "cell_type": "code",
   "execution_count": null,
   "id": "9f55db42",
   "metadata": {},
   "outputs": [],
   "source": [
    "df2.info()"
   ]
  },
  {
   "cell_type": "code",
   "execution_count": null,
   "id": "b3aee7bf",
   "metadata": {},
   "outputs": [],
   "source": [
    "# Rename columns and change datetypes\n",
    "df2=df2.rename(columns={\"created_dt\": \"acquisition_date\", \"email\": \"acquisitions\"})"
   ]
  },
  {
   "cell_type": "code",
   "execution_count": null,
   "id": "c2bc6121",
   "metadata": {},
   "outputs": [],
   "source": [
    "df2['acquisition_date']= pd.to_datetime(df2['acquisition_date'])"
   ]
  },
  {
   "cell_type": "code",
   "execution_count": null,
   "id": "639cf597",
   "metadata": {},
   "outputs": [],
   "source": [
    "df2.info()"
   ]
  },
  {
   "cell_type": "code",
   "execution_count": null,
   "id": "2522875b",
   "metadata": {},
   "outputs": [],
   "source": [
    "# Write to csv\n",
    "df2.to_csv ('acquisition_facts.csv', index = False, header=True)"
   ]
  }
 ],
 "metadata": {
  "kernelspec": {
   "display_name": "Python 3",
   "language": "python",
   "name": "python3"
  },
  "language_info": {
   "codemirror_mode": {
    "name": "ipython",
    "version": 3
   },
   "file_extension": ".py",
   "mimetype": "text/x-python",
   "name": "python",
   "nbconvert_exporter": "python",
   "pygments_lexer": "ipython3",
   "version": "3.9.4"
  }
 },
 "nbformat": 4,
 "nbformat_minor": 5
}
